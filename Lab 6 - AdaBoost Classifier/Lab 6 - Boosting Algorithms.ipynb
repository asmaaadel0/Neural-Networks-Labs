{
 "cells": [
  {
   "attachments": {},
   "cell_type": "markdown",
   "metadata": {},
   "source": [
    "# Lab 6 - Classifiers Boosting Algorithms\n",
    "\n",
    "In this lab, we will implement the AdaBoost algorithm as an ensemble learning technique which\n",
    "aims to combine a number of weak classifiers to yield a strong classifier at the end.\n",
    "The idea of this lab is to identify whether a tumor with given characteristics is malignant or\n",
    "benign. This is a two-class classification problem.\n",
    "\n",
    "## Dataset and Features\n",
    "\n",
    "You will be working on the dataset from *Hastie et al,* for breast tumor classification with 10 features representing the tumor's:\n",
    "\n",
    "                              1. Area            6. Texture\n",
    "                              2. Perimeter       7. Symmetry\n",
    "                              3. Radius          8. Greyscale Level\n",
    "                              4. Compactness     9. Fractal Dimension\n",
    "                              5. Concavity      10. Coastline Approximation.\n",
    "There is one output variable which is diagnosis. It takes one of two values `+1` for malignant and `-1` for benign."
   ]
  },
  {
   "cell_type": "markdown",
   "metadata": {},
   "source": [
    "### Question 1:\n",
    "Why it is sometimes better to have the two class values `+1` and `-1` instead of `+1`\n",
    "and `0`?\\\n",
    "**HINT :** Think about the voting scheme at the end of the boosting algorithm. How can the class values\n",
    "affect this scheme?"
   ]
  },
  {
   "cell_type": "code",
   "execution_count": 41,
   "metadata": {},
   "outputs": [
    {
     "data": {
      "text/plain": [
       "'\\n    Your answer: \\n1-Better differentiation: The +1 and -1 values provide a better differentiation between \\nthe two classes as compared to +1 and 0. The presence of -1 class makes the classification \\nmore distinct as compared to a binary classification with just a positive class (+1) and a \\nneutral class (0).\\n\\n2-Easier threshold determination: When using +1 and -1 as class values, the decision boundary \\n(threshold) is always at zero. This simplifies the threshold determination process as compared \\nto the +1 and 0 class values where the threshold needs to be determined separately.\\n\\n3-Avoiding bias: In some cases, using +1 and 0 class values can introduce bias towards the positive\\nclass. This is because the model might assign positive labels to instances that are not truly \\npositive, but are closer to the positive class than to the neutral class. This bias can be avoided \\nby using +1 and -1 class values instead.\\n\\n4-Robustness: Using +1 and -1 class values can make the classification more robust to outliers and \\nnoise in the data. This is because the presence of the negative class (-1) allows the model to learn\\nto distinguish between the positive and negative classes even in the presence of noisy or outlying \\ndata points.\\n\\nOverall, the choice of class values depends on the specific problem and the characteristics of the \\ndata. However, in many cases, using +1 and -1 class values can provide better performance and more \\nrobustness in classification tasks as compared to +1 and 0 class values.\\n'"
      ]
     },
     "execution_count": 41,
     "metadata": {},
     "output_type": "execute_result"
    }
   ],
   "source": [
    "'''\n",
    "    Your answer: \n",
    "1-Better differentiation: The +1 and -1 values provide a better differentiation between \n",
    "the two classes as compared to +1 and 0. The presence of -1 class makes the classification \n",
    "more distinct as compared to a binary classification with just a positive class (+1) and a \n",
    "neutral class (0).\n",
    "\n",
    "2-Easier threshold determination: When using +1 and -1 as class values, the decision boundary \n",
    "(threshold) is always at zero. This simplifies the threshold determination process as compared \n",
    "to the +1 and 0 class values where the threshold needs to be determined separately.\n",
    "\n",
    "3-Avoiding bias: In some cases, using +1 and 0 class values can introduce bias towards the positive\n",
    "class. This is because the model might assign positive labels to instances that are not truly \n",
    "positive, but are closer to the positive class than to the neutral class. This bias can be avoided \n",
    "by using +1 and -1 class values instead.\n",
    "\n",
    "4-Robustness: Using +1 and -1 class values can make the classification more robust to outliers and \n",
    "noise in the data. This is because the presence of the negative class (-1) allows the model to learn\n",
    "to distinguish between the positive and negative classes even in the presence of noisy or outlying \n",
    "data points.\n",
    "\n",
    "Overall, the choice of class values depends on the specific problem and the characteristics of the \n",
    "data. However, in many cases, using +1 and -1 class values can provide better performance and more \n",
    "robustness in classification tasks as compared to +1 and 0 class values.\n",
    "'''"
   ]
  },
  {
   "cell_type": "markdown",
   "metadata": {},
   "source": [
    "## Requirement\n",
    "You are required to fill the function `adaboost_classifier(Y_train, X_train, Y_test, X_test, T, clf).`\\\n",
    "This function takes as parameters:\n",
    "\n",
    "| | |\n",
    "|:---|:-|\n",
    "| **Y_train**| The target values for the training set |\n",
    "| **X_train**| The input features for the training set.|\n",
    "| **Y_test**| The target values for the test set.|\n",
    "| **Y_train**| The input features for the training set.|\n",
    "| **T**| The number of iterations of the AdaBoost Algorithm.|\n",
    "| **clf**| The classifier to be used. (In our case, we are using a decision tree stump as a base classifier). You can use any other classifier.|\n",
    "\n",
    "This function should return two values:\n",
    "- The accuracy of the model on the training set.\n",
    "- The accuracy of the model on the test set.\n",
    "\n",
    "\n",
    "#### Fair Note:\n",
    "In the explanation video, we assumed that (T) is the number of models you want to fit. However, this is not always the case. You may have a model base (like here we have decision trees) and you are allowed to use as many of it as you can. So (T) here becomes the number of iterations where your goal is to enhance the performance with as few iterations as possible. \n",
    "\n",
    "Do not get confused:\n",
    "- If your case is you have T models only, we set T = number of models to fit.\n",
    "- If you are allowed to use as many models as you can (as many decision trees as you need), then T is the number of iterations to choose. In such case, T becomes a parameter controlled by the programmer."
   ]
  },
  {
   "cell_type": "code",
   "execution_count": 42,
   "metadata": {},
   "outputs": [],
   "source": [
    "## imports ##\n",
    "import pandas as pd\n",
    "import numpy as np\n",
    "from sklearn.tree import DecisionTreeClassifier\n",
    "from sklearn.model_selection import train_test_split\n",
    "from sklearn.datasets import make_hastie_10_2\n",
    "\n",
    "import utils"
   ]
  },
  {
   "cell_type": "markdown",
   "metadata": {},
   "source": [
    "**NOTE** we prepared some utility functions to help you throughout the lab. please go and check the file *utils.py* and make sure you understand each function and know how to use it.\n",
    "\n",
    "### TODO: AdaBoost Implementation\n",
    "\n",
    "AdaBoost is an iterative algorithm that gives weights for the best classifier every iteration, updates weights of the data points, then repeats until convergence.\n",
    "\n",
    "The steps of the algorithm are:\n",
    "\n",
    "1. Initialize weights of the training examples:\n",
    "\n",
    "$$w_{m} = \\frac {1}{M}, m = 1,2,...M$$\n",
    "\n",
    "                                        M: number of training examples. \n",
    "\n",
    "2. For t=1 to $T$:\n",
    "\n",
    "    a) Select a classifier $h_{t}$ that best fits to the training data using weights $w_{m}$ of the training examples.\n",
    "\n",
    "    b) Compute error of $h_{t}$ as:\n",
    "$$err_{t} = \\frac {\\Sigma_{m=1}^{M} w_{m} \\phi (c_{m} \\neq h_{t}(x_{m}))}{\\Sigma_{m=1}^{M} w_{m}}$$\n",
    "\n",
    "    c) Compute weight of classifier:\n",
    "$$\\alpha_{t} = \\log (\\frac {1-err_{t}}{err_{t}} )$$\n",
    "\n",
    "    d) Update weights of wrongly classified examples:\n",
    "$$w_{m} = w_{m} * \\exp^{\\alpha_{t} \\phi (c_{m} \\neq h_{t}(x_{m}))}, \\space m = 1 ... M$$\n",
    "\n",
    "    e) Renormalize weights $w_{m}$\n",
    "\n",
    "\n",
    "\\\n",
    "3. Output: $C(x)= argmax_{k}\\space (\\space \\Sigma_{t=1}^{T} \\alpha_{t} * \\phi (h_{t}(x) = k)) \\space)$\n",
    "\n",
    "**Where** in step 2.B and 2.D, the $\\phi (y)$ function is called the *miss indicator* function that gives values:\n",
    "\n",
    "                                     1: if y is True\n",
    "                                     0: if y is False"
   ]
  },
  {
   "cell_type": "code",
   "execution_count": 67,
   "metadata": {},
   "outputs": [],
   "source": [
    "def adaboost_classifier(Y_train, X_train, Y_test, X_test, T, clf):      \n",
    "    #TODO: FILL THE FUNCTION with the implementation as the steps above\n",
    "\n",
    "    # TODO [1]: Initialize weights \n",
    "    n_train, n_test = len(X_train), len(X_test)  \n",
    "    w = np.ones(n_train) / n_train\n",
    "\n",
    "    ## DONE [2]:  Initialize the training and test predicted classes with empty array placeholders\n",
    "    #### Hint: what should be their shape?      ## Like Y_train and Y_test respectively\n",
    "    pred_train = np.zeros((T,n_train))         ## predicted classes of the training examples\n",
    "    pred_test = np.zeros((T,n_test))          ## predicted classes of the test examples\n",
    "\n",
    "    ## DONE [3]: loop over the boosting iterations \n",
    "    for t in range(T): \n",
    "\n",
    "        # TODO [4]: Fit a classifier with the specific weights \n",
    "        ## TODO [4.A]: fit the classifier on the training data\n",
    "        #### Hint: search how sklearn.tree.DecisionTreeClassifier fits classifier on data\n",
    "        ### Hint: search for parameter weights in the fit matrix\n",
    "\n",
    "        clf = clf.fit(X_train,Y_train, sample_weight = w)\n",
    "        \n",
    "        # TODO [4.B]: predict classes for the training data and test data\n",
    "        pred_train_i = clf.predict(X_train)\n",
    "        pred_test_i = clf.predict(X_test)\n",
    "        \n",
    "        # TODO [5]: calculate the miss Indicator function\n",
    "        miss_indicator = (pred_train_i != Y_train)\n",
    "        \n",
    "        # TODO [6]: calculate the error for the current classifier (err_t)\n",
    "        err_t = np.sum(w * miss_indicator)/np.sum(w)\n",
    "        \n",
    "        # TODO [7]: calculate current classifier weight (Alpha_t)\n",
    "        alpha_t = np.log((1-err_t)/err_t)\n",
    "        \n",
    "        # TODO [8]: update the weights \n",
    "        w = w * np.exp(alpha_t * miss_indicator)             # a lot of cool vectorization is going on here.\n",
    "        \n",
    "        # TODO [9] Add to the overall predictions\n",
    "        pred_train[t] = pred_train_i * alpha_t\n",
    "        pred_test[t] = pred_test_i * alpha_t\n",
    "\n",
    "    final_pred_train, final_pred_test = np.sum(pred_train, axis=0), np.sum(pred_test, axis=0)\n",
    "    final_pred_train, final_pred_test = np.sign(final_pred_train), np.sign(final_pred_test)\n",
    "\n",
    "    # TODO [10]: Return error rate in train and test set\n",
    "    #### Hint: use function get_accuracy from utils.py\n",
    "    train_acc = utils.get_accuracy(final_pred_train, Y_train )\n",
    "    test_acc = utils.get_accuracy(final_pred_test, Y_test )\n",
    "    print(f'Accuracy: Training: {train_acc * 100}% - Test: {test_acc * 100}%')\n",
    "    return train_acc, test_acc"
   ]
  },
  {
   "cell_type": "markdown",
   "metadata": {},
   "source": [
    "### Testing the Boosted Classifier\n",
    "\n",
    "Now we will use the function you implemented to build a classifer.\\\n",
    "You will not change code here, only read the code below and run it to see how **AdaBoost** enhanced the performance."
   ]
  },
  {
   "cell_type": "code",
   "execution_count": 68,
   "metadata": {},
   "outputs": [
    {
     "name": "stdout",
     "output_type": "stream",
     "text": [
      "Reading Data ...\n",
      "Number of Iterations :  10\n",
      "Accuracy: Training: 67.23958333333333% - Test: 66.125%\n",
      "Number of Iterations :  60\n",
      "Accuracy: Training: 81.34375% - Test: 79.41666666666667%\n",
      "Number of Iterations :  110\n",
      "Accuracy: Training: 86.125% - Test: 84.29166666666667%\n",
      "Number of Iterations :  160\n",
      "Accuracy: Training: 88.60416666666666% - Test: 86.41666666666666%\n",
      "Number of Iterations :  210\n",
      "Accuracy: Training: 90.1875% - Test: 89.08333333333334%\n",
      "Number of Iterations :  260\n",
      "Accuracy: Training: 91.11458333333333% - Test: 90.625%\n",
      "Number of Iterations :  310\n",
      "Accuracy: Training: 91.19791666666667% - Test: 90.375%\n",
      "Number of Iterations :  360\n",
      "Accuracy: Training: 92.03125% - Test: 91.0%\n"
     ]
    },
    {
     "name": "stderr",
     "output_type": "stream",
     "text": [
      "d:\\CUFE24\\3rd year\\second term\\Neural Networks\\Neural-Networks-Labs\\Lab 6 - AdaBoost Classifier\\utils.py:20: UserWarning: FixedFormatter should only be used together with FixedLocator\n",
      "  plot1.set_xticklabels(range(0, 450, 50))\n"
     ]
    },
    {
     "data": {
      "image/png": "[encoded data removed]",
      "text/plain": [
       "<Figure size 800x600 with 1 Axes>"
      ]
     },
     "metadata": {},
     "output_type": "display_data"
    }
   ],
   "source": [
    "#### DO NOT CHANGE CODE ####\n",
    "\n",
    "## First, read the dataset\n",
    "x,y = make_hastie_10_2()\n",
    "df = pd.DataFrame(x)\n",
    "df['Y'] = y\n",
    "print('Reading Data ...')\n",
    "\n",
    "# Split into training and test set\n",
    "train, test = train_test_split(df, test_size=0.2) # this function shuffles the data points, and splits the data into\n",
    "                                                  # 80% training set and 20% test set (indicated by test_size=0.2)\n",
    "\n",
    "\n",
    "X_train, Y_train = train.iloc[:, :-1], train.iloc[:, -1]\n",
    "X_test, Y_test = test.iloc[:, :-1], test.iloc[:, -1]\n",
    "# Fit a simple decision tree first\n",
    "clf_tree = DecisionTreeClassifier(max_depth=1, random_state=1)\n",
    "\n",
    "# Fit Adaboost classifier using a decision tree as base estimator\n",
    "# Test with different number of iterations\n",
    "acc_train, acc_test = [],[]\n",
    "x_range = range(10, 410, 50)\n",
    "for i in x_range:\n",
    "    print('Number of Iterations : ' , i)\n",
    "    acc_i = adaboost_classifier(Y_train, X_train, Y_test, X_test, i, clf_tree)\n",
    "    acc_train.append(acc_i[0])\n",
    "    acc_test.append(acc_i[1])\n",
    "\n",
    "# Compare error rate vs number of iterations\n",
    "utils.plot_accuracy(acc_train, acc_test)"
   ]
  },
  {
   "cell_type": "markdown",
   "metadata": {},
   "source": [
    "### Question 2:\n",
    "Justify why the plot is the way it is (is it increasing or decreasing? why? when does it flattens out?)"
   ]
  },
  {
   "cell_type": "code",
   "execution_count": null,
   "metadata": {},
   "outputs": [],
   "source": [
    "'''\n",
    "    Your answer:\n",
    "    \n",
    "The accuracy significantly increases as we increase the number of iterations. After each iteration, \n",
    "the weights are updated using more realistic values and then the predictions are updated to more \n",
    "realistic labels. So, the more number of iterations, the better accuracy and less error you get, \n",
    "As boosting iterations proceed the error rate steadily decreases and the accuracy steadily increases.    \n",
    "'''"
   ]
  },
  {
   "cell_type": "markdown",
   "metadata": {},
   "source": [
    "### Question 3\n",
    "\n",
    "The number of iterations (T) is what we call a hyper parameter:\n",
    "   - Its value differs from model to model and from problem to problem.\n",
    "   - Its value is not learnt by time, it is set by the programmer.\n",
    "   \n",
    "Suggest ways to select the optimal T keeping in mind that:\n",
    "   - If T is too big, the training time is large (you loop for T times, each time takes a model to fit and this model might take hours to fit)\n",
    "   - If T is too small, the boosting might not reach the best values it can get.\n",
    "   \n",
    "   \n",
    "\n",
    "**HINT**: Look at the graph of number of iterations vs performance and search for elbow method. Try to understand it and explain what it does.\\\n",
    "**HINT**: There are other hyper-parameter selection techniques, search for them as well."
   ]
  },
  {
   "cell_type": "code",
   "execution_count": null,
   "metadata": {},
   "outputs": [],
   "source": [
    "'''\n",
    "    Your answer:\n",
    "     1. The Elbow Method: a method is used in Kmeans, PCA, AdaBoost, ...etc\n",
    "        - To determine the optimal number of iterations, we have to select the value of T at the “elbow”\n",
    "        ==> the point after which the distortion/inertia start decreasing in a linear fashion.\n",
    "        Depending on the graph, the proper number of iterations T = 350 iterations\n",
    "    2. Information–theoretic approach\n",
    "        - Run the AdaBoost classifier for all T between 1 to n.\n",
    "        - Calculate the distortion\n",
    "        - The distortion curve is then transformed by a negative power chosen based on the dimensionality of the data.\n",
    "        - Jumps in the resulting values then signify reasonable choices for T, with the largest jump representing the best choice.\n",
    "'''"
   ]
  }
 ],
 "metadata": {
  "kernelspec": {
   "display_name": "Python 3",
   "language": "python",
   "name": "python3"
  },
  "language_info": {
   "codemirror_mode": {
    "name": "ipython",
    "version": 3
   },
   "file_extension": ".py",
   "mimetype": "text/x-python",
   "name": "python",
   "nbconvert_exporter": "python",
   "pygments_lexer": "ipython3",
   "version": "3.10.7"
  }
 },
 "nbformat": 4,
 "nbformat_minor": 4
}
