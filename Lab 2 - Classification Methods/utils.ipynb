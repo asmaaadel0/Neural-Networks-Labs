{
 "cells": [
  {
   "cell_type": "markdown",
   "metadata": {},
   "source": [
    "## Utility Functions\n",
    "\n",
    "It is good practice to keep your utility functions (functions that perform certain operations) separate from your machine learning pipeline. This helps you:\n",
    "\n",
    "1. Focus on each operation/functionality on its own\n",
    "2. Better trace code when something breaks\n",
    "3. Perform unit testing"
   ]
  },
  {
   "cell_type": "code",
   "execution_count": null,
   "metadata": {},
   "outputs": [],
   "source": [
    "### All imports we will need\n",
    "import cv2\n",
    "import numpy as np\n",
    "import math\n",
    "import glob\n",
    "import matplotlib.pyplot as plt\n",
    "from mpl_toolkits.mplot3d import Axes3D\n",
    "\n",
    "# use interactive plots\n",
    "%matplotlib qt "
   ]
  },
  {
   "cell_type": "code",
   "execution_count": null,
   "metadata": {},
   "outputs": [],
   "source": [
    "#### set debug to false when imported from another "
   ]
  },
  {
   "cell_type": "markdown",
   "metadata": {},
   "source": [
    "## Data Preprocessing Utilities\n",
    "Functions that implement the preprocessing operations"
   ]
  },
  {
   "cell_type": "code",
   "execution_count": null,
   "metadata": {},
   "outputs": [],
   "source": [
    "def preprocess(img):\n",
    "    # Preprocess the given image img.\n",
    "    \n",
    "    # [1] TODO: Convert the image to grayscale (~1 line)\n",
    "    # Hint: Check the function cvtColor in opencv.\n",
    "\n",
    "    # [2] TODO: Blur the image to remove the noise (apply a 3x3 filter) (~1 line)\n",
    "    # Hint: Check the function blur in opencv.\n",
    "    # Hint: Pass the kernel size as an array (3, 3)\n",
    "\n",
    "    # [3] TODO: Convert the grayscale image to a binary image. Apply a threshold between 50 and 255 on the blurred image.\n",
    "    #       The pixels having values less than 50 will be considered 0, and 255 otherwise. (~1 line)\n",
    "    # Hint: Check the function threshold in opencv.\n",
    "    # Hint: Use the type cv2.THRESH_BINARY with the type parameter.\n",
    "    # Hint: This function has two return parameters. You can ignore the first one, and the second is the binary image.\n",
    "    # Example: _, thresholded_img = cv2.threshold(....)\n",
    "\n",
    "    thresholded_img = img\n",
    "    return thresholded_img"
   ]
  },
  {
   "cell_type": "code",
   "execution_count": null,
   "metadata": {},
   "outputs": [],
   "source": [
    "# IN_DEBUG = True ## uncomment this line when you need to test your code, then re-comment it when done\n",
    "\n",
    "if IN_DEBUG:\n",
    "    ### test your implementation\n",
    "    ######## DO NOT CHANGE THIS CODE ########\n",
    "    img = cv2.imread('images/rectangle/rec1.png')\n",
    "    thresholded_img = preprocess(img)\n",
    "    assert np.all((thresholded_img==255) | (thresholded_img==0)), \\\n",
    "        'Preprocessing is incomplete: the resulting final image should be all 0 or 255'"
   ]
  },
  {
   "cell_type": "markdown",
   "metadata": {},
   "source": [
    "## Feature Extraction Utilities\n",
    "Functions that implement feature extractors"
   ]
  },
  {
   "cell_type": "code",
   "execution_count": null,
   "metadata": {},
   "outputs": [],
   "source": [
    "def findContourArea(img):\n",
    "    # This function finds the contours of a given image and returns it in the variable contours.\n",
    "    ## understand contours: \n",
    "    ### Contours can be explained simply as a curve joining all the continuous points (along the boundary), having same color or intensity. \n",
    "    ### The contours are a useful tool for shape analysis and object detection and recognition.\n",
    "\n",
    "    # NOTE: This function will not work correctly unless you preprocess the image properly as indicated.\n",
    "    contours, hierarchy = cv2.findContours(img, cv2.RETR_TREE, cv2.CHAIN_APPROX_SIMPLE)\n",
    "    ## the function findContours returns an array of contours and their hierarchy,\n",
    "    ## Contours is a Python list of all the contours in the image. Each individual contour is a Numpy array of (x,y) coordinates of boundary points of the object.\n",
    "    ## the list is sorted in terms of hierarchy, this means the outmost contour is in contours[0], \n",
    "    ## and their direct inner contours are in contours[1] and so on and so forth\n",
    "    \n",
    "    # [4] TODO: Find the contour area of the given image (img) (~1 line)\n",
    "    # Hint: check the function contourArea in opencv.\n",
    "    # Hint: think which contour should be passed as argument to the function (which contour we should calculate its area)\n",
    "    area = 0\n",
    "\n",
    "    return area, contours"
   ]
  },
  {
   "cell_type": "code",
   "execution_count": null,
   "metadata": {},
   "outputs": [],
   "source": [
    "def findBoundingRectangleArea(img, contours):\n",
    "    # This function tries to fit the minimum bounding rectangle for the given contours.\n",
    "\n",
    "    # [5] TODO: Find the minimum bounding rectangle that can fit the given contours.\n",
    "    # Hint: Check the function boundingRect in opencv\n",
    "   \n",
    "    # TODO (Optional): You can uncomment the following lines to show or display the bounded rectangle.\n",
    "    bounding_rectangle = None\n",
    "    # bounding_rectangle = cv2.rectangle(img.copy(), (x, y), (x + w, y + h), (0, 255, 0), 2)\n",
    "    if bounding_rectangle: ## not none\n",
    "        cv2.imshow('Image_Rec', bounding_rectangle)\n",
    "        cv2.waitKey(0)\n",
    "\n",
    "    # [6] TODO: Find the area of the bounding rectangle\n",
    "    area = 0\n",
    "    return area, bounding_rectangle"
   ]
  },
  {
   "cell_type": "code",
   "execution_count": null,
   "metadata": {},
   "outputs": [],
   "source": [
    "def findBoundingCircleArea(img, contours):\n",
    "    # This function tries to fit the minimum bounding circle for the given contours.\n",
    "\n",
    "    # [7] TODO: Find the minimum enclosing circle that can fit the given contours.\n",
    "    # Hint: Check the function minEnclosingCircle in opencv\n",
    "\n",
    "    # TODO (Optional): You can uncomment the following lines to show or display the bounded circle.\n",
    "    bounding_circle = None\n",
    "    # bounding_circle = cv2.circle(img.copy(), center, radius, (0, 255, 0), 2)\n",
    "    if bounding_circle: ## not none\n",
    "        cv2.imshow('Image_Circle', bounding_circle)\n",
    "        cv2.waitKey(0)\n",
    "\n",
    "    # [8] TODO: Find the area of the bounding circle\n",
    "    area = 0\n",
    "    return area, bounding_circle"
   ]
  },
  {
   "cell_type": "code",
   "execution_count": null,
   "metadata": {},
   "outputs": [],
   "source": [
    "def findBoundingTriangleArea(img, contours):\n",
    "    # This function tries to fit the minimum bounding triangle for the given contours.\n",
    "\n",
    "    # [9] TODO: Find the minimum enclosing triangle that can fit the given contours.\n",
    "    # Hint: Check the function minEnclosingTriangle in opencv and place its output in the variable x\n",
    "\n",
    "    # TODO (Optional): You can uncomment the following lines to show or display the bounded triangle.\n",
    "    bounding_triangle = None\n",
    "    # bounding_triangle = cv2.polylines(img.copy(), np.int32([x[1]]), True, (0, 255, 0), 2)\n",
    "    if bounding_triangle: ## not none\n",
    "        cv2.imshow('Image_Triangle', bounding_triangle)\n",
    "        cv2.waitKey(0)\n",
    "\n",
    "    # [10] TODO: Find the area of the bounding circle\n",
    "    area = 0\n",
    "    return area, bounding_triangle"
   ]
  },
  {
   "cell_type": "code",
   "execution_count": null,
   "metadata": {},
   "outputs": [],
   "source": [
    "# IN_DEBUG = True ## uncomment this line when you need to test your code, then re-comment it when done\n",
    "\n",
    "if IN_DEBUG:\n",
    "    ### test your implementation\n",
    "    ######## DO NOT CHANGE THIS CODE ########\n",
    "    img = cv2.imread('images/rectangle/rec1.png')\n",
    "    thresholded_img = preprocess(img) ### assuming this function is behaving correctly\n",
    "    img_area, img_contours = findContourArea(thresholded_img)\n",
    "    rect_area, _ = findBoundingRectangleArea(thresholded_img, img_contours)\n",
    "    circ_area, _ = findBoundingCircleArea(thresholded_img, img_contours)\n",
    "    tri_area, _ = findBoundingTriangleArea(thresholded_img, img_contours)\n",
    "\n",
    "    assert round(img_area, 2)==14150.5,\\\n",
    "        f'findContourArea() is incorrect, expected {14150.5} found {area}'\n",
    "    assert round(rect_area, 2)==16120.0, \\\n",
    "        f'findBoundingRectangleArea() is incorrect, expected {16120.0} found {area}'\n",
    "    assert round(circ_area, 2)==23235.22, \\\n",
    "        f'findBoundingCircleArea() is incorrect, expected {23235.22} found {area}'\n",
    "    assert round(tri_area,2)==25933.5, \\\n",
    "        f'findBoundingTriangleArea() is incorrect, expected {25933.5} found {area}'"
   ]
  },
  {
   "cell_type": "code",
   "execution_count": null,
   "metadata": {},
   "outputs": [],
   "source": [
    "def extract_features(img, class_number=None):\n",
    "    # Given an image img, extract the following features.\n",
    "    # 1. The ratio between the figure area and the minimum enclosing rectangle.\n",
    "    # 2. The ratio between the figure area and the minimum enclosing circle.\n",
    "    # 3. The ratio between the figure area and the minimum enclosing triangle.\n",
    "\n",
    "    area, contours = findContourArea(img)\n",
    "    area1, _ = findBoundingRectangleArea(img, contours)\n",
    "    area2, _ = findBoundingCircleArea(img, contours)\n",
    "    area3, _ = findBoundingTriangleArea(img, contours)\n",
    "\n",
    "    features = []\n",
    "    # [11] TODO: Extract the features and append the class_number (if given) in the beginning of each feature vector.\n",
    "    return features\n"
   ]
  },
  {
   "cell_type": "code",
   "execution_count": null,
   "metadata": {},
   "outputs": [],
   "source": [
    "# IN_DEBUG = True ## uncomment this line when you need to test your code, then re-comment it when done\n",
    "\n",
    "if IN_DEBUG:\n",
    "    ### test your implementation\n",
    "    ######## DO NOT CHANGE THIS CODE ########\n",
    "    expected_features = np.array([1.0, 0.88, 0.61, 0.55])\n",
    "    results = np.array(extract_features(thresholded_img, 1))\n",
    "    results = np.round(results, 2)\n",
    "    assert np.all(results == expected_features), \\\n",
    "        f'extract_features() is incorrect'"
   ]
  },
  {
   "cell_type": "markdown",
   "metadata": {},
   "source": [
    "## Data Plotting Utilities\n",
    "Functions that implement 3D plots to visualize data"
   ]
  },
  {
   "cell_type": "code",
   "execution_count": null,
   "metadata": {},
   "outputs": [],
   "source": [
    "def plot(x, y, z, title='', xlabel='', ylabel='', zlabel='', color_style_str='', label_str='', figure=None, axis=None):\n",
    "    # [12] TODO: Add title, x_label, y_label, z_label to axis (~4 lines)\n",
    "\n",
    "    # [13] TODO: Scatter plot of data points with coordinates (x, y, z) with the corresponding color and label (~1 line)\n",
    "\n",
    "    handles, labels = axis.get_legend_handles_labels()\n",
    "\n",
    "    unique = list(set(labels))\n",
    "    handles = [handles[labels.index(u)] for u in unique]\n",
    "    labels = [labels[labels.index(u)] for u in unique]\n",
    "\n",
    "    axis.legend(handles, labels)"
   ]
  },
  {
   "cell_type": "code",
   "execution_count": null,
   "metadata": {},
   "outputs": [],
   "source": [
    "# IN_DEBUG = True ## uncomment this line when you need to test your code, then re-comment it when done\n",
    "\n",
    "if IN_DEBUG:    \n",
    "    ### test your implementation\n",
    "    ######## DO NOT CHANGE THIS CODE ########\n",
    "    np.random.seed(0)\n",
    "    x = np.random.randint(10, size=8)\n",
    "    y = np.random.randint(15, size=8)\n",
    "    z = np.random.randint(20, size=8)\n",
    "    fig = plt.figure()\n",
    "    ax = fig.add_subplot('111', projection='3d')\n",
    "    plot(x, y, z, title='Random Data',\n",
    "               xlabel='Feature x.', ylabel='Feature y', zlabel='Feature z.', color_style_str='g',\n",
    "               label_str=\"Data Points\",\n",
    "               figure=fig, axis=ax)\n",
    "    plt.show()"
   ]
  },
  {
   "attachments": {
    "plotting_ex.PNG": {
     "image/png": "[encoded data removed]"
    }
   },
   "cell_type": "markdown",
   "metadata": {},
   "source": [
    "**EXPECTED PLOT**\n",
    "![plotting_ex.PNG](attachment:plotting_ex.PNG)"
   ]
  },
  {
   "cell_type": "markdown",
   "metadata": {},
   "source": [
    "## Classifiers Utilities\n",
    "Functions that implement the classification algorithms"
   ]
  },
  {
   "cell_type": "code",
   "execution_count": null,
   "metadata": {},
   "outputs": [],
   "source": [
    "def calculateDistance(x1, x2):\n",
    "    # [14] TODO: Calculate the Euclidean distance between the two vectors x1 and x2. (~ 1 line)\n",
    "    distance = 0\n",
    "    return distance"
   ]
  },
  {
   "cell_type": "code",
   "execution_count": null,
   "metadata": {},
   "outputs": [],
   "source": [
    "def MinimumDistanceClassifier(test_point, training_points):\n",
    "    # [15] TODO: Implement the minumum distance classifier.\n",
    "    #  You have to classify the test_point whether it belongs to class 1, 2 or 3.\n",
    "    classification = 0\n",
    "    return classification"
   ]
  },
  {
   "cell_type": "code",
   "execution_count": null,
   "metadata": {},
   "outputs": [],
   "source": [
    "def NearestNeighbor(test_point, all_points):\n",
    "    # [16] TODO: Implement the Nearest Neighbour classifier.\n",
    "    #  You have to classify the test_point whether it belongs to class 1, 2 or 3.\n",
    "    classification = 0\n",
    "    return classification"
   ]
  },
  {
   "cell_type": "code",
   "execution_count": null,
   "metadata": {},
   "outputs": [],
   "source": [
    "def KNN(test_point, all_points, k):\n",
    "    # [17] TODO: Implement the K-Nearest Neighbour classifier.\n",
    "    #  You have to classify the test_point whether it belongs to class 1, 2 or 3.\n",
    "    classification = 0\n",
    "    return classification"
   ]
  },
  {
   "cell_type": "markdown",
   "metadata": {},
   "source": [
    "## Model Testing Utilities\n",
    "Functions that help in the classification algorithms' testing"
   ]
  },
  {
   "cell_type": "code",
   "execution_count": null,
   "metadata": {},
   "outputs": [],
   "source": [
    "def get_class_from_file_name(file_name):\n",
    "    return file_name.split(\"test\\\\\")[1].split(\".\")[0]\n",
    "\n",
    "\n",
    "def get_class_name(class_number):\n",
    "    classes = [\"\", \"Rectangle\", \"Circle\", \"Triangle\"]\n",
    "    return classes[int(class_number)]"
   ]
  }
 ],
 "metadata": {
  "kernelspec": {
   "display_name": "Python 3",
   "language": "python",
   "name": "python3"
  },
  "language_info": {
   "codemirror_mode": {
    "name": "ipython",
    "version": 3
   },
   "file_extension": ".py",
   "mimetype": "text/x-python",
   "name": "python",
   "nbconvert_exporter": "python",
   "pygments_lexer": "ipython3",
   "version": "3.8.3"
  }
 },
 "nbformat": 4,
 "nbformat_minor": 4
}
