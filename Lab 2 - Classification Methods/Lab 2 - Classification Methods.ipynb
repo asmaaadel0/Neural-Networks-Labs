{
 "cells": [
  {
   "cell_type": "markdown",
   "metadata": {},
   "source": [
    "# Classification Methods\n",
    "In this lab, it is required to identify between different hand-drawn shapes; such as rectangles,\n",
    "circles, triangles, ellipses, polygons, etc.\n",
    "We will start our first lab in this course by understanding the main pipeline of any machine\n",
    "learning project:\n",
    "\n",
    "**NOTE** READ ALL CODE AND FILL THE FUNCTIONS IN THE 'Utils' NOTEBOOK AS YOU GO"
   ]
  },
  {
   "cell_type": "code",
   "execution_count": null,
   "metadata": {},
   "outputs": [],
   "source": [
    "##### Always make all imports in the first cell of the notebook, run them all once \n",
    "\n",
    "import cv2\n",
    "import numpy as np\n",
    "import math\n",
    "import glob\n",
    "import matplotlib.pyplot as plt\n",
    "from mpl_toolkits.mplot3d import Axes3D"
   ]
  },
  {
   "cell_type": "code",
   "execution_count": null,
   "metadata": {},
   "outputs": [],
   "source": [
    "IN_DEBUG=False ## sets DEBUG false to avoid running assertions on incomplete requirements\n",
    "\n",
    "%run ./utils.ipynb  ## this line runs the utils notebook and imports it into the current notebook\n",
    "\n",
    "# use interactive plots\n",
    "%matplotlib notebook\n",
    "## you will need to re-run this cell every time you change something in the utils notebook\n",
    "## DONOT forget to save the utils notebook before running this cell"
   ]
  },
  {
   "attachments": {
    "gg.PNG": {
     "image/png": "[encoded data removed]"
    }
   },
   "cell_type": "markdown",
   "metadata": {},
   "source": [
    "## A ML project is divided into many stages:\n",
    "\n",
    "### 1. Gathering Data:\n",
    "\n",
    "The first real step of machine learning is gathering data. This step is\n",
    "very important because the **quality and quantity** of data that you gather will directly\n",
    "determine how good your predictive model can be.\n",
    "\n",
    "In this lab, the data we collect\n",
    "will be the images of hand-drawn shapes.\n",
    "\n",
    "\n",
    "![gg.PNG](attachment:gg.PNG)"
   ]
  },
  {
   "cell_type": "code",
   "execution_count": null,
   "metadata": {},
   "outputs": [],
   "source": [
    "### read all data into lists\n",
    "## define placeholders to the raw data\n",
    "raw_data = []\n",
    "raw_data_rec = []\n",
    "raw_data_circle = []\n",
    "raw_data_tri = []"
   ]
  },
  {
   "cell_type": "code",
   "execution_count": null,
   "metadata": {},
   "outputs": [],
   "source": [
    "## load rectangle images\n",
    "for filename in sorted(glob.glob('images/rectangle/*.png')):\n",
    "    img = cv2.imread(filename) ## cv2.imread reads images in RGB format\n",
    "    raw_data.append(img)\n",
    "    raw_data_rec.append(img)"
   ]
  },
  {
   "cell_type": "code",
   "execution_count": null,
   "metadata": {},
   "outputs": [],
   "source": [
    "## load circle images\n",
    "for filename in sorted(glob.glob('images/circle/*.png')):\n",
    "    img = cv2.imread(filename) \n",
    "    raw_data.append(img)\n",
    "    raw_data_circle.append(img)"
   ]
  },
  {
   "cell_type": "code",
   "execution_count": null,
   "metadata": {},
   "outputs": [],
   "source": [
    "## load triangle images\n",
    "for filename in sorted(glob.glob('images/triangle/*.png')):\n",
    "    img = cv2.imread(filename)\n",
    "    raw_data.append(img)\n",
    "    raw_data_tri.append(img)"
   ]
  },
  {
   "cell_type": "markdown",
   "metadata": {},
   "source": [
    "### 2. Data Preparation:\n",
    "\n",
    "The second stage is to convert the raw data into clean data set. In other words, whenever the data is gathered from different sources it is collected in raw format which is not feasible for the analysis. We need to prepare it to be suitable for our problem.\n",
    "\n",
    "In this lab, we need to convert our RGB images to grayscale (Why?), smooth them to remove noise by applying a Gaussian\n",
    "filter or a low pass filter (blurring), and applying a threshold on the image pixels.\n",
    "\n",
    "The pixels having intensity less than this threshold should be considered black pixels, and white otherwise. "
   ]
  },
  {
   "cell_type": "code",
   "execution_count": null,
   "metadata": {},
   "outputs": [],
   "source": [
    "## placeholders for preprocessed data\n",
    "clean_data = []\n",
    "clean_data_rec = []\n",
    "clean_data_circle = []\n",
    "clean_data_tri = []"
   ]
  },
  {
   "cell_type": "code",
   "execution_count": null,
   "metadata": {},
   "outputs": [],
   "source": [
    "for rec_img in raw_data_rec:\n",
    "    ## TODO: implement the function preprocess() in the utils notebook\n",
    "    preprocessed_img = preprocess(rec_img)\n",
    "    clean_data.append(preprocessed_img)\n",
    "    clean_data_rec.append(preprocessed_img)"
   ]
  },
  {
   "cell_type": "code",
   "execution_count": null,
   "metadata": {},
   "outputs": [],
   "source": [
    "for circle_img in raw_data_circle:\n",
    "    preprocessed_img = preprocess(circle_img)\n",
    "    clean_data.append(preprocessed_img)\n",
    "    clean_data_circle.append(preprocessed_img)"
   ]
  },
  {
   "cell_type": "code",
   "execution_count": null,
   "metadata": {},
   "outputs": [],
   "source": [
    "for tri_img in raw_data_tri:\n",
    "    preprocessed_img = preprocess(tri_img)\n",
    "    clean_data.append(preprocessed_img)\n",
    "    clean_data_tri.append(preprocessed_img)"
   ]
  },
  {
   "attachments": {
    "al.PNG": {
     "image/png": "[encoded data removed]"
    }
   },
   "cell_type": "markdown",
   "metadata": {},
   "source": [
    "### 3. Feature Extraction: \n",
    "\n",
    "Now that we have clean data, we can use it to solve our classification problem.\n",
    "\n",
    "This step could be either:\n",
    "    \n",
    "**A. Feature Engineering:** transformation of raw data into features suitable for\n",
    "modeling.\n",
    "\n",
    "**B. Feature Transformation:** transformation of data to improve the accuracy of\n",
    "the algorithm.\n",
    "\n",
    "**C. Feature Selection:** removing unnecessary features.\n",
    "    \n",
    "The process of feature extraction in our problem can have many designs:\n",
    "\n",
    "* One design is to extract the number of black pixels compared to the number\n",
    "white pixels in each image and use this feature to differentiate between different\n",
    "shapes. (Is this a powerful feature?) Can you think of other features?\n",
    "\n",
    "\n",
    "* We will extract features by computing the convex hull of these shapes, and\n",
    "compare this convex hull with the minimum enclosing circle, minimum\n",
    "enclosing rectangle and minimum enclosing triangle bounding that figure.\n",
    "\n",
    "![al.PNG](attachment:al.PNG)\n",
    "\n",
    "In the example above, the ratio between the areas of the convex hull (figure) to the\n",
    "area of the bounding triangle will be maximum, and relatively smaller for the\n",
    "bounding rectangle and circle respectively. On the other hand, if the given\n",
    "shape was a circle, then the ratio between the areas of the shape to the\n",
    "bounding circle will be maximum and smaller for the bounding rectangle and\n",
    "triangle. \n",
    "\n",
    "Therefore, each image will be represented with a feature vector in threedimensions (x, y and z) where each component represents the ratio between the\n",
    "area of the figure to the area of the bounding rectangle, circle and triangle\n",
    "respectively.\n",
    "\n",
    "The images in the example above can be represented as a feature vector (0.67, 0.58, 0.92)\n",
    "\n"
   ]
  },
  {
   "cell_type": "code",
   "execution_count": null,
   "metadata": {},
   "outputs": [],
   "source": [
    "## define placeholders for the extracted features: these are the training data we will use to feed our classification models\n",
    "training_data = []\n",
    "training_data_rec = []\n",
    "training_data_circle = []\n",
    "training_data_tri = []"
   ]
  },
  {
   "cell_type": "code",
   "execution_count": null,
   "metadata": {},
   "outputs": [],
   "source": [
    "for rec_img in clean_data_rec:\n",
    "    ## [2] TODO: implement the function extract_features() and its child functions in the utils notebook\n",
    "    img_features = extract_features(rec_img, class_number=1)\n",
    "    training_data.append(img_features)\n",
    "    training_data_rec.append(img_features)"
   ]
  },
  {
   "cell_type": "code",
   "execution_count": null,
   "metadata": {},
   "outputs": [],
   "source": [
    "for circle_img in clean_data_circle:\n",
    "    img_features  = extract_features(circle_img, class_number=2)\n",
    "    training_data.append(img_features)\n",
    "    training_data_circle.append(img_features)"
   ]
  },
  {
   "cell_type": "code",
   "execution_count": null,
   "metadata": {},
   "outputs": [],
   "source": [
    "for tri_img in clean_data_tri:\n",
    "    img_features = extract_features(tri_img, class_number=3)\n",
    "    training_data.append(img_features)\n",
    "    training_data_tri.append(img_features)"
   ]
  },
  {
   "cell_type": "code",
   "execution_count": null,
   "metadata": {},
   "outputs": [],
   "source": [
    "## Remember: when it comes to actual machine learning algorithms, it is better to work with NumPy arrays\n",
    "## convert the training data to NumPy arrays\n",
    "training_data = np.asarray(training_data)\n",
    "training_data_rec = np.asarray(training_data_rec)\n",
    "training_data_circle = np.asarray(training_data_circle)\n",
    "training_data_tri = np.asarray(training_data_tri)"
   ]
  },
  {
   "cell_type": "markdown",
   "metadata": {},
   "source": [
    "### Visualize the Features\n",
    "A very useful step here is to visualize your features, see how they separate different classes from one another, and how they group data points from the same class closer together."
   ]
  },
  {
   "cell_type": "code",
   "execution_count": null,
   "metadata": {},
   "outputs": [],
   "source": [
    "fig = plt.figure()\n",
    "ax = fig.add_subplot('111', projection='3d')\n",
    "\n",
    "## [3] TODO: implement the function plot() in utils notebook\n",
    "plot(training_data_rec[:, 1], training_data_rec[:, 2], training_data_rec[:, 3], title='Training Data',\n",
    "           xlabel='Feature Rec.', ylabel='Feature Circle', zlabel='Feature Tri.', color_style_str='r',\n",
    "           label_str=\"Rectangle\",\n",
    "           figure=fig, axis=ax)\n",
    "\n",
    "plot(training_data_circle[:, 1], training_data_circle[:, 2], training_data_circle[:, 3], title='Training Data',\n",
    "           xlabel='Feature Rec.', ylabel='Feature Circle', zlabel='Feature Tri.', color_style_str='b',\n",
    "           label_str=\"Circle\",\n",
    "           figure=fig, axis=ax)\n",
    "\n",
    "plot(training_data_tri[:, 1], training_data_tri[:, 2], training_data_tri[:, 3], title='Training Data',\n",
    "           xlabel='Feature Rec.', ylabel='Feature Circle', zlabel='Feature Tri.', color_style_str='g',\n",
    "           label_str=\"Triangle\",\n",
    "           figure=fig, axis=ax)\n",
    "\n",
    "plt.show()"
   ]
  },
  {
   "cell_type": "markdown",
   "metadata": {},
   "source": [
    "### 4. Model Selection: \n",
    "It’s time to feed the crafted features to the classification algorithm that is going to classify or predict the class of unknown or newly unseen data (called testing data). The process of choosing which classification algorithm will yield the best results is not an easy one. It is often subject to many iterations of tuning parameters and features.\n",
    "\n",
    "In this lab, we will apply three classification algorithms and compare their results:\n",
    "1. Minimum Distance Classifier.\n",
    "2. Nearest Neighbour Classifier.\n",
    "3. K-Nearest Neighbour Classifier.\n"
   ]
  },
  {
   "cell_type": "code",
   "execution_count": null,
   "metadata": {},
   "outputs": [],
   "source": [
    "### [4] TODO: implement the three models in the utils notebook"
   ]
  },
  {
   "cell_type": "code",
   "execution_count": null,
   "metadata": {},
   "outputs": [],
   "source": [
    "### Run this after implementing the model functions\n",
    "\n",
    "true_values = [3, 1, 1, 3, 3, 1, 1, 2, 3, 2]\n",
    "\n",
    "min_distance_predictions = []\n",
    "nn_predictions = []\n",
    "knn_predictions = []\n",
    "index = 0\n",
    "for filename in sorted(glob.glob('test/*.png')):\n",
    "    # Read each image in the test directory, preprocess it and extract its features.\n",
    "    img_original = cv2.imread(filename)\n",
    "    img = preprocess(img_original)\n",
    "    test_point = extract_features(img)\n",
    "    print(\"Actual class :\", get_class_name(true_values[index]))\n",
    "    print(\"---------------------------------------\")\n",
    "    index += 1\n",
    "\n",
    "    min_dist_prediction = MinimumDistanceClassifier(test_point, training_data)\n",
    "    nn_prediction = NearestNeighbor(test_point, training_data)\n",
    "    knn_prediction = KNN(test_point, training_data, 3)\n",
    "\n",
    "\n",
    "    print(\"Minimum Distance Classifier Prediction   :\", get_class_name(min_dist_prediction))\n",
    "    print(\"Nearest Neighbour Prediction             :\", get_class_name(nn_prediction))\n",
    "    print(\"K-Nearest Neighbours Prediction          :\", get_class_name(knn_prediction))\n",
    "    print(\"===========================================================================\")\n",
    "    \n",
    "    min_distance_predictions.append(min_dist_prediction)\n",
    "    nn_predictions.append(nn_prediction)\n",
    "    knn_predictions.append(knn_prediction)"
   ]
  },
  {
   "cell_type": "markdown",
   "metadata": {},
   "source": [
    "### 5. Performance Results: \n",
    "After training the classifier with the training data, it’s time to\n",
    "test its accuracy against testing data (i.e. data that is unseen or new for the\n",
    "classification algorithm). The accuracy is reported as the percentage of the number of\n",
    "instances that were correctly classified to the total number of instances."
   ]
  },
  {
   "cell_type": "code",
   "execution_count": null,
   "metadata": {},
   "outputs": [],
   "source": [
    "# [5] TODO: Calculate the accuracy of the three classifiers on the test set.\n",
    "#  You may need to add code in the previous for loop.\n",
    "accuracy_min_distance = np.sum((np.array(min_distance_predictions) == true_values).astype('int')) / len(true_values) * 100\n",
    "accuracy_nn = np.sum((np.array(nn_predictions) == true_values).astype('int')) / len(true_values) * 100\n",
    "accuracy_knn = np.sum((np.array(knn_predictions) == true_values).astype('int')) / len(true_values) * 100\n",
    "\n",
    "print(\"Minimum Distance Classifier Accuracy: \", accuracy_min_distance, \"%\")\n",
    "print(\"Nearest Neighbour Classifier Accuracy: \", accuracy_nn, \"%\")\n",
    "print(\"K-Nearest Neighbour Classifier Accuracy: \", accuracy_knn, \"%\")"
   ]
  },
  {
   "cell_type": "code",
   "execution_count": null,
   "metadata": {},
   "outputs": [],
   "source": []
  }
 ],
 "metadata": {
  "kernelspec": {
   "display_name": "Python 3",
   "language": "python",
   "name": "python3"
  },
  "language_info": {
   "codemirror_mode": {
    "name": "ipython",
    "version": 3
   },
   "file_extension": ".py",
   "mimetype": "text/x-python",
   "name": "python",
   "nbconvert_exporter": "python",
   "pygments_lexer": "ipython3",
   "version": "3.8.3"
  }
 },
 "nbformat": 4,
 "nbformat_minor": 4
}
